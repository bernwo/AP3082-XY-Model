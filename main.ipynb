{
 "metadata": {
  "language_info": {
   "codemirror_mode": {
    "name": "ipython",
    "version": 3
   },
   "file_extension": ".py",
   "mimetype": "text/x-python",
   "name": "python",
   "nbconvert_exporter": "python",
   "pygments_lexer": "ipython3",
   "version": "3.8.5"
  },
  "orig_nbformat": 2,
  "kernelspec": {
   "name": "python3",
   "display_name": "Python 3",
   "language": "python"
  }
 },
 "nbformat": 4,
 "nbformat_minor": 2,
 "cells": [
  {
   "source": [
    "# Ferromagnetic 2D square lattice XY model using NumPy and Numba"
   ],
   "cell_type": "markdown",
   "metadata": {}
  },
  {
   "source": [
    "## Import the required libraries."
   ],
   "cell_type": "markdown",
   "metadata": {}
  },
  {
   "cell_type": "code",
   "execution_count": null,
   "metadata": {},
   "outputs": [],
   "source": [
    "import numpy as np\n",
    "from Metropolis_functions import Metropolis_slow_quench\n",
    "from Observables import get_specificheat, get_squared_magnetisation\n",
    "import matplotlib.pyplot as plt"
   ]
  },
  {
   "source": [
    "## Initialise the required variables"
   ],
   "cell_type": "markdown",
   "metadata": {}
  },
  {
   "cell_type": "code",
   "execution_count": null,
   "metadata": {},
   "outputs": [],
   "source": [
    "J = 1 # coupling constant, where it must be > 0 for the system to exhibit ferromagnetism\n",
    "L = 32 # dimension of the square lattice\n",
    "\n",
    "tau = 500000 # relaxation time a.k.a equilibrating time\n",
    "nrelax = 25 # total number of times to let the system equilibrate\n",
    "nframes = 1 # total number of frames in the .gif over the whole simulation (not needed since we are not generating the animated .gif in this notebook)\n",
    "N = nrelax * tau # total number of iterations in the Metropolis algorithm\n",
    "plot_at_Nth_index = np.array([0],dtype=np.int32) # (not needed since we are not generating the animated .gif in this notebook)\n",
    "\n",
    "lattice = np.zeros((L, L))\n",
    "\n",
    "Tc = 0.892937 * J  # http://www.lps.ens.fr/~krauth/images/7/72/Stage_Mayer_Johannes_2015.pdf in units of kB\n",
    "T_init = 0.5\n",
    "T_final = 2*Tc\n",
    "TTc_array = np.linspace(T_init, T_final, nrelax)"
   ]
  },
  {
   "source": [
    "## Begin the Metropolis time-marching on the lattice"
   ],
   "cell_type": "markdown",
   "metadata": {}
  },
  {
   "cell_type": "code",
   "execution_count": null,
   "metadata": {},
   "outputs": [],
   "source": [
    "lattices_relax, _, _ = Metropolis_slow_quench(\n",
    "    J=J,\n",
    "    L=L,\n",
    "    relaxation_time=tau,\n",
    "    plot_at_Nth_index=plot_at_Nth_index,\n",
    "    lattice=lattice,\n",
    "    T_init=T_init,\n",
    "    T_final=T_final,\n",
    "    T_n=nrelax)"
   ]
  },
  {
   "source": [
    "## Calculate the physical observables with the simulation results obtained in the previous cell"
   ],
   "cell_type": "markdown",
   "metadata": {}
  },
  {
   "source": [
    "## Squared magnetisation\n",
    "\n",
    "Its expression is given as $\\frac{\\left\\langle M^2\\right\\rangle}{N^2}=\\frac{1}{N^2}\\left\\langle\\left(\\sum_{i=1}^{N} \\cos \\theta_{i}\\right)^{2}+\\left(\\sum_{i=1}^{N} \\sin \\theta_{i}\\right)^{2}\\right\\rangle$ where $N=L\\times L$."
   ],
   "cell_type": "markdown",
   "metadata": {}
  },
  {
   "cell_type": "code",
   "execution_count": null,
   "metadata": {},
   "outputs": [],
   "source": [
    "ave_M = get_squared_magnetisation(L,nrelax,lattices_relax)\n",
    "\n",
    "plt.close()\n",
    "plt.plot(TTc_array/Tc,ave_M)\n",
    "plt.xlabel(\"$T/T_c$\")\n",
    "plt.ylabel(\"$\\langle M^2\\\\rangle/N^2$\")\n",
    "plt.grid()\n",
    "plt.show()"
   ]
  },
  {
   "source": [
    "## Specific heat\n",
    "\n",
    "Its expression is given as $c / k_{\\mathrm{B}}=\\frac{\\left\\langle E^{2}\\right\\rangle-{\\langle E\\rangle}^{2}}{\\left(k_{\\mathrm{B}} T\\right)^{2}}$ where $k_B$ is the Boltzmann's constant."
   ],
   "cell_type": "markdown",
   "metadata": {}
  },
  {
   "cell_type": "code",
   "execution_count": null,
   "metadata": {},
   "outputs": [],
   "source": [
    "c = get_specificheat(J, nrelax, lattices_relax, TTc_array)\n",
    "\n",
    "plt.close()\n",
    "plt.plot(TTc_array,c)\n",
    "plt.xlabel(\"$T/T_c$\")\n",
    "plt.ylabel(\"$c/k_B$\")\n",
    "plt.grid()\n",
    "plt.show()"
   ]
  },
  {
   "cell_type": "code",
   "execution_count": null,
   "metadata": {},
   "outputs": [],
   "source": []
  }
 ]
}